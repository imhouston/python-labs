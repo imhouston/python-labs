{
 "cells": [
  {
   "cell_type": "markdown",
   "metadata": {},
   "source": [
    "# Решающее дерево"
   ]
  },
  {
   "cell_type": "markdown",
   "metadata": {},
   "source": [
    "Отметим, что решающее дерево состоит из вершин, в которых записывает некоторое условие, а в листах дерева - прогноз. Условия во внутренних вершинах выбираются простыми. Наиболее частый вариант - проверка лежит ли значение некоторого признака $x^j$ левее порога $t$:\n",
    "\n",
    "$[x^j \\leq t]$\n",
    "\n",
    "Легко заметить, что такое условие зависит только от одного признака. Прогноз в листе является вещественным числом, если решается задача регрессии. Если же решается задача классификации, то в качестве прогноза выступает или класс или распределение вероятностей классов.\n",
    "\n",
    "Запишем некоторую функцию ошибки следующим образом: есть набор данных $X_m$, есть номер рассматриваемого признака $j$ и есть порог $t$.\n",
    "\n",
    "$L(X_m, j, t) \\rightarrow \\underset{j,t}{min}$\n",
    "\n",
    "Осуществим перебор всех возможных признаков $j$ и порогов $t$ для этих признаков. Каждый раз исходное множество будет разбиваться на два подмножества:\n",
    "\n",
    "$X_l = \\{x \\in X_m | [ x^j \\leq t ] \\}$ и $X_к = \\{x \\in X_m | [ x^j > t ] \\}$\n",
    "\n",
    "Такую процедуру можно продолжить для каждого получившегося множества (рекурсивно вызывать функцию деления для получающихся подмножеств).\n",
    "\n",
    "Необходимо отметить, что если вершина была объявлена листом, необходимо сделать прогноз для этого листа. Для задачи регрессии берется среднее значение по этой выборке,\n",
    "для задачи классификации возвращается тот класс, которые наиболее популярен в выборке. Можно указывать вероятность классов в листе.\n",
    "\n",
    "Для каждого разбиения необходимо расчитывать функцию потерь:\n",
    "\n",
    "$L(X_m, j, t) = \\frac{|X_l|}{|X_m|}H(X_l) + \\frac{|X_r|}{|X_m|}H(X_r)$,\n",
    "\n",
    "где $H(X)=\\sum\\limits_{k=1}^{K} p_k(1 - p_k)$ - критерий информативности Джинни.\n",
    "\n",
    "$p_k$ - доля объектов класса $k$ в выборке X:\n",
    "\n",
    "$p_k=\\frac{1}{|X|}\\sum\\limits_{i \\in X}{[y_i = k]}$\n",
    "\n",
    "В задаче работаем только с числовыми данными и строим дерево классификации.\n",
    "\n",
    "Данные сгенерированы случайным образом."
   ]
  },
  {
   "cell_type": "code",
   "execution_count": 54,
   "metadata": {},
   "outputs": [],
   "source": [
    "from sklearn.datasets import make_blobs, make_moons\n",
    "import matplotlib.pyplot as plt\n",
    "import numpy as np\n",
    "%matplotlib inline"
   ]
  },
  {
   "cell_type": "code",
   "execution_count": 106,
   "metadata": {},
   "outputs": [
    {
     "data": {
      "text/plain": [
       "<matplotlib.collections.PathCollection at 0x11de16eb8>"
      ]
     },
     "execution_count": 106,
     "metadata": {},
     "output_type": "execute_result"
    },
    {
     "data": {
      "image/png": "[encoded data removed]",
      "text/plain": [
       "<Figure size 432x288 with 1 Axes>"
      ]
     },
     "metadata": {
      "needs_background": "light"
     },
     "output_type": "display_data"
    }
   ],
   "source": [
    "x, y = make_moons(n_samples=100, noise=0.1)\n",
    "plt.scatter(x[:,0], x[:,1], c = y)"
   ]
  },
  {
   "cell_type": "markdown",
   "metadata": {},
   "source": [
    "\n",
    "## Задание 1\n",
    "\n",
    "Напишите функцию, которая получает на вход матрицу данных ($x$) и целевые переменные ($y$), на выходе функция возвращает номер признака ($i$), порог разбиения($t$), значение в листовой вершине слева ($y_l$) и значение в листовой вершине справа ($y_r$).\n",
    "Постарайтесь учесть, что пороги разбиения должны лежать строго по середине между ближайшими обектами.\n",
    "\n",
    "Необходимо учесть:\n",
    "\n",
    "1. Разбиений не требуется, если в получившемся множестве находятся объекты одного класса.\n",
    "2. Количество различных классов объектов в целевой переменной может быть больше двух.\n"
   ]
  },
  {
   "cell_type": "code",
   "execution_count": 82,
   "metadata": {},
   "outputs": [],
   "source": [
    "def process_data(x, y):\n",
    "    min_loss = 1\n",
    "    t_result = x.min()\n",
    "    \n",
    "    for j in (0, 1):\n",
    "        for t in np.linspace(x.min(), x.max(), x.size):\n",
    "            #y_l = np.array([prediction for value, prediction in zip(x,y) if value[j] <= t])\n",
    "            #y_r = np.array([prediction for value, prediction in zip(x,y) if value[j] > t])\n",
    "            \n",
    "            x_l, y_l, x_r, y_r = [], [], [], []\n",
    "            for value, prediction in zip(x, y):\n",
    "                if value[j] <= t:\n",
    "                    x_l.append(value)\n",
    "                    y_l.append(prediction)\n",
    "                else:\n",
    "                    x_r.append(value)\n",
    "                    y_r.append(prediction)\n",
    "\n",
    "            y_l, y_r = np.array(y_l), np.array(y_r)\n",
    "            lose = lose_function(y_l, y_r)\n",
    "            \n",
    "            if lose < min_loss:\n",
    "                min_loss = lose\n",
    "                t_result = t\n",
    "                j_result = j\n",
    "                y_l_result = y_l\n",
    "                y_r_result = y_r\n",
    "                x_r_result = x_r\n",
    "                x_l_result = x_l\n",
    "    \n",
    "    return j_result, t_result, np.array(x_l_result), y_l_result, np.array(x_r_result), y_r_result"
   ]
  },
  {
   "cell_type": "code",
   "execution_count": 83,
   "metadata": {},
   "outputs": [],
   "source": [
    "def lose_function(y_l, y_r):\n",
    "    y_l_size = y_l.size\n",
    "    y_r_size = y_r.size\n",
    "    total_size = y_l_size + y_r_size\n",
    "    \n",
    "    return (y_l_size * impurity_criterion(y_l) + y_r_size * impurity_criterion(y_r)) / total_size"
   ]
  },
  {
   "cell_type": "code",
   "execution_count": 84,
   "metadata": {},
   "outputs": [],
   "source": [
    "from collections import Counter \n",
    "\n",
    "def impurity_criterion(y):\n",
    "    counter = Counter(y)\n",
    "    y_size = y.size\n",
    "\n",
    "    criterion = 0\n",
    "    for key in counter:\n",
    "        buf = counter[key] / y_size\n",
    "        criterion += buf * (1 - buf)\n",
    "        \n",
    "    return criterion"
   ]
  },
  {
   "cell_type": "markdown",
   "metadata": {},
   "source": [
    "После первого разбиения мы считаем, что в листе дерева будет находиться класс объектов, которых больше всего в этом множестве. Реализуйте классификатор дерева решений в виде функции, которая получает на вход признаки объекта - $x$, на выходе метка класса - $y_{pred}$. Величину порога деления возьмите с точностью до 5 знака после запятой.\n",
    "\n",
    "Визуализируйте получившиеся результаты классификатора на плоскости. Для этого воспользуйтесь кодом ниже, чтобы построить поверхность. $t$ - порог разбиения $i$ - номер признака."
   ]
  },
  {
   "cell_type": "code",
   "execution_count": 92,
   "metadata": {},
   "outputs": [
    {
     "name": "stdout",
     "output_type": "stream",
     "text": [
      "1 \n",
      " 0.1258481307436976 \n",
      " [1 1 1 1 1 1 1 1 1 1 1 1 1 0 1 0 1 0 1 1 1 1 1 1 1 1 1 1 1 1 0 1 1 1 1 1 1\n",
      " 1 1 1 1 1 1 0] \n",
      " [0 1 0 0 1 0 0 0 0 1 0 0 0 0 0 0 0 0 0 0 0 0 0 0 0 0 0 0 0 1 0 0 0 0 0 0 1\n",
      " 1 1 1 1 0 0 1 1 0 0 0 0 0 0 0 0 0 0 0]\n"
     ]
    }
   ],
   "source": [
    "j, t, x_l, y_l, x_r, y_r = process_data(x, y)\n",
    "print(j, \"\\n\", t, \"\\n\", y_l,\"\\n\", y_r)"
   ]
  },
  {
   "cell_type": "code",
   "execution_count": 115,
   "metadata": {},
   "outputs": [],
   "source": [
    "# => if value > t: 0"
   ]
  },
  {
   "cell_type": "code",
   "execution_count": 64,
   "metadata": {},
   "outputs": [],
   "source": [
    "def tree_clf(x):\n",
    "    y_pred = list()  \n",
    "    for it in x.transpose():\n",
    "        if it[j] > t:\n",
    "            y_pred.append(0)\n",
    "        else:\n",
    "            y_pred.append(1)\n",
    "    return np.array(y_pred)"
   ]
  },
  {
   "cell_type": "code",
   "execution_count": 107,
   "metadata": {},
   "outputs": [
    {
     "data": {
      "text/plain": [
       "<matplotlib.collections.PathCollection at 0x11e06ff28>"
      ]
     },
     "execution_count": 107,
     "metadata": {},
     "output_type": "execute_result"
    },
    {
     "data": {
      "image/png": "[encoded data removed]",
      "text/plain": [
       "<Figure size 432x288 with 1 Axes>"
      ]
     },
     "metadata": {
      "needs_background": "light"
     },
     "output_type": "display_data"
    }
   ],
   "source": [
    "h = .02\n",
    "x0_min, x0_max = np.min(x[:,0]) - 1, np.max(x[:,0]) + 1\n",
    "x1_min, x1_max = np.min(x[:,1]) - 1, np.max(x[:,1]) + 1\n",
    "xx0, xx1 = np.meshgrid(np.arange(x0_min, x0_max, h),\n",
    "                         np.arange(x1_min, x1_max, h))\n",
    "\n",
    "Z = tree_clf(np.stack((xx0.ravel(),xx1.ravel())))\n",
    "Z = Z.reshape(xx0.shape)\n",
    "cm = plt.cm.RdBu\n",
    "plt.contourf(xx0, xx1, Z, cmap=cm, alpha=.8)\n",
    "plt.scatter(x[:,0], x[:,1], c = y)\n"
   ]
  },
  {
   "cell_type": "markdown",
   "metadata": {},
   "source": [
    "Проведите процесс разбиение в получившихся листах дерева до глубины 2. Перепишите функцию классификатора. Визуализируйте результаты классификации."
   ]
  },
  {
   "cell_type": "code",
   "execution_count": 93,
   "metadata": {},
   "outputs": [
    {
     "name": "stdout",
     "output_type": "stream",
     "text": [
      "0 \n",
      " -0.9526562636301574 \n",
      " [0 0 0] \n",
      " [1 1 1 1 1 1 1 1 1 1 1 1 1 1 0 1 1 1 1 1 1 1 1 1 1 1 1 1 0 1 1 1 1 1 1 1 1\n",
      " 1 1 1 1]\n"
     ]
    }
   ],
   "source": [
    "j_l, t_l, x_l_l, y_l_l, x_r_l, y_r_l = process_data(x_l, y_l)\n",
    "print(j_l, \"\\n\", t_l, \"\\n\", y_l_l, \"\\n\", y_r_l)"
   ]
  },
  {
   "cell_type": "code",
   "execution_count": 94,
   "metadata": {},
   "outputs": [
    {
     "name": "stdout",
     "output_type": "stream",
     "text": [
      "0 \n",
      " 1.0999409214179199 \n",
      " [0 0 0 0 0 0 0 1 0 0 0 0 0 0 0 0 0 0 0 0 0 0 0 0 0 0 0 1 0 0 0 0 0 0 1 1 0\n",
      " 0 1 0 0 0 0 0 0 0 0 0 0 0] \n",
      " [1 1 1 1 1 1]\n"
     ]
    }
   ],
   "source": [
    "j_r, t_r, x_l_r, y_l_r, x_r_r, y_r_r = process_data(x_r, y_r)\n",
    "print(j_r, \"\\n\", t_r, \"\\n\", y_l_r, \"\\n\", y_r_r)"
   ]
  },
  {
   "cell_type": "code",
   "execution_count": 96,
   "metadata": {},
   "outputs": [],
   "source": [
    "def tree_clf_depth2(x):\n",
    "    y_pred = list()  \n",
    "    for it in x.transpose():\n",
    "        if it[j] > t:\n",
    "            if it[j_r] > t_r:\n",
    "                y_pred.append(1)\n",
    "            else:\n",
    "                y_pred.append(0)\n",
    "        else:\n",
    "            if it[j_l] > t_l:\n",
    "                y_pred.append(1)\n",
    "            else:\n",
    "                y_pred.append(0)\n",
    "    return np.array(y_pred)"
   ]
  },
  {
   "cell_type": "code",
   "execution_count": 108,
   "metadata": {},
   "outputs": [
    {
     "data": {
      "text/plain": [
       "<matplotlib.collections.PathCollection at 0x11e1466d8>"
      ]
     },
     "execution_count": 108,
     "metadata": {},
     "output_type": "execute_result"
    },
    {
     "data": {
      "image/png": "[encoded data removed]",
      "text/plain": [
       "<Figure size 432x288 with 1 Axes>"
      ]
     },
     "metadata": {
      "needs_background": "light"
     },
     "output_type": "display_data"
    }
   ],
   "source": [
    "h = .02\n",
    "x0_min, x0_max = np.min(x[:,0]) - 1, np.max(x[:,0]) + 1\n",
    "x1_min, x1_max = np.min(x[:,1]) - 1, np.max(x[:,1]) + 1\n",
    "xx0, xx1 = np.meshgrid(np.arange(x0_min, x0_max, h),\n",
    "                         np.arange(x1_min, x1_max, h))\n",
    "\n",
    "Z = tree_clf_depth2(np.stack((xx0.ravel(),xx1.ravel())))\n",
    "Z = Z.reshape(xx0.shape)\n",
    "cm = plt.cm.RdBu\n",
    "plt.contourf(xx0, xx1, Z, cmap=cm, alpha=.8)\n",
    "plt.scatter(x[:,0], x[:,1], c = y)"
   ]
  },
  {
   "cell_type": "markdown",
   "metadata": {},
   "source": [
    "## Задание №2. Кросс-проверка и  подбор параметров для дерева решений"
   ]
  },
  {
   "cell_type": "markdown",
   "metadata": {},
   "source": [
    "В задании воспользуемся готовой функцией для построения дерева решений DecisionTreeClassifier. Использовать будем данные с платформы kaggle, где проводится классификация пациентов на здоровых ('Normal') и с заболеванием ('Abnormal'). Подробности о признаках тут: https://www.kaggle.com/uciml/biomechanical-features-of-orthopedic-patients/home\n",
    "Необходимо построить кросс-проверку (cross_val_score в sklearn.cross_validation ) алгоритма \"Дерево решений\" на 5 подвыборках, причем дерево должно не ограничиваться по глубине (max_depth), в листовой вершине дерева должен быть хотя бы один объект (min_samples_leaf), минимальное количество объектов должно быть не менее 2 для разбиения (min_samples_split) и random_state=42.\n",
    "Оцените результаты получившиеся на валидационной выборке с использованием F1-меры, точности и полноты (в параметре scoring к методу cross_val_score необходимо использовать 'f1_weighted', 'precision_weighted', 'recall_weighted'). \n",
    "\n",
    "Точность и полнота позволяют провести оценку классификации.\n",
    "Точность (Precision) - это отношение количества правильно классифицированных объектов класса к количеству объектов, которые классифицированы как данный класс.\n",
    "Полнота (Recall) - это отношение количества правильно классифицированных объектов класса к количеству объектов данного класса в тестовой выборке.\n",
    "Введем следующие понятия:\n",
    "\n",
    "$TP$  — истино-положительное решение;\n",
    "$TN$ — истино-отрицательное решение;\n",
    "$FP$ — ложно-положительное решение;\n",
    "$FN$ — ложно-отрицательное решение.\n",
    "\n",
    "Тогда \n",
    "\n",
    "$Precision = \\frac{TP}{TP+FP}$, \n",
    "\n",
    "$Recall = \\frac{TP}{TP+TN}$.\n",
    "\n",
    "Точность и полнота изменяются в интервале [0, 1]. Чем выше точность и полнота, тем лучше классификатор. Однако, по двум метрикам очень сложно чудить о качестве классификации, поэтому используют F1-меру:\n",
    "\n",
    "$F1 = \\frac{2 \\times Precision \\times Recall}{Precision + Recall}$\n",
    "\n",
    "В нашем задании будем использовать взвешенную сумму F1-меры, точности и полноты для каждого класса."
   ]
  },
  {
   "cell_type": "code",
   "execution_count": 16,
   "metadata": {},
   "outputs": [],
   "source": [
    "import pandas as pd\n",
    "from sklearn.tree import DecisionTreeClassifier\n",
    "from sklearn.model_selection import cross_val_score\n",
    "from sklearn.metrics.classification import f1_score, precision_score, recall_score"
   ]
  },
  {
   "cell_type": "code",
   "execution_count": 3,
   "metadata": {},
   "outputs": [],
   "source": [
    "df = pd.read_csv('column_2C_weka.csv')\n",
    "columns = df.columns"
   ]
  },
  {
   "cell_type": "code",
   "execution_count": 13,
   "metadata": {},
   "outputs": [],
   "source": [
    "X = df[columns.drop('class')]\n",
    "y = df['class']"
   ]
  },
  {
   "cell_type": "code",
   "execution_count": 14,
   "metadata": {},
   "outputs": [],
   "source": [
    "clf = DecisionTreeClassifier(max_depth = None, min_samples_leaf = 1, min_samples_split = 2, random_state = 42)"
   ]
  },
  {
   "cell_type": "code",
   "execution_count": 17,
   "metadata": {},
   "outputs": [
    {
     "name": "stderr",
     "output_type": "stream",
     "text": [
      "/usr/local/lib/python3.7/site-packages/sklearn/model_selection/_split.py:2053: FutureWarning: You should specify a value for 'cv' instead of relying on the default value. The default value will change from 3 to 5 in version 0.22.\n",
      "  warnings.warn(CV_WARNING, FutureWarning)\n",
      "/usr/local/lib/python3.7/site-packages/sklearn/model_selection/_split.py:2053: FutureWarning: You should specify a value for 'cv' instead of relying on the default value. The default value will change from 3 to 5 in version 0.22.\n",
      "  warnings.warn(CV_WARNING, FutureWarning)\n",
      "/usr/local/lib/python3.7/site-packages/sklearn/model_selection/_split.py:2053: FutureWarning: You should specify a value for 'cv' instead of relying on the default value. The default value will change from 3 to 5 in version 0.22.\n",
      "  warnings.warn(CV_WARNING, FutureWarning)\n"
     ]
    },
    {
     "data": {
      "text/plain": [
       "[array([0.34579055, 0.85647249, 0.84919721]),\n",
       " array([0.68448859, 0.8701984 , 0.85362211]),\n",
       " array([0.41346154, 0.86407767, 0.85436893])]"
      ]
     },
     "execution_count": 17,
     "metadata": {},
     "output_type": "execute_result"
    }
   ],
   "source": [
    "scorings = ['f1_weighted', 'precision_weighted', 'recall_weighted']\n",
    "cross_val_results = [cross_val_score(clf, X, y, scoring=scoring) for scoring in scorings]\n",
    "cross_val_results"
   ]
  },
  {
   "cell_type": "markdown",
   "metadata": {},
   "source": [
    "Следует отметить, что по одной метрике не очень удобно проводить оценку. В этой связи, лучшим вариантом кросс-проверки будет использование функции cross_validate из sklearn.model_selection. В нее можно передать несколько метрик и оценивать каждый шаг кросс проверки по нескольким метрикам, причем для тренировочного (return_train_score=True) и валидационного набора данных.\n",
    "Оцените результаты на тренировочном и тестовом наборе. Объясните получившиеся результаты.\n"
   ]
  },
  {
   "cell_type": "code",
   "execution_count": 12,
   "metadata": {},
   "outputs": [],
   "source": [
    "from sklearn.model_selection import cross_validate"
   ]
  },
  {
   "cell_type": "code",
   "execution_count": 26,
   "metadata": {},
   "outputs": [
    {
     "name": "stdout",
     "output_type": "stream",
     "text": [
      "Scoring: f1_weighted \n",
      " Result: \n",
      " {'fit_time': array([0.00281906, 0.00294209, 0.00224686]), 'score_time': array([0.00243187, 0.00142002, 0.00130415]), 'test_score': array([0.34579055, 0.85647249, 0.84919721]), 'train_score': array([1., 1., 1.])}\n",
      "Scoring: precision_weighted \n",
      " Result: \n",
      " {'fit_time': array([0.00344777, 0.002074  , 0.00214195]), 'score_time': array([0.00154495, 0.0013299 , 0.00148606]), 'test_score': array([0.68448859, 0.8701984 , 0.85362211]), 'train_score': array([1., 1., 1.])}\n",
      "Scoring: recall_weighted \n",
      " Result: \n",
      " {'fit_time': array([0.00391912, 0.00298095, 0.00246978]), 'score_time': array([0.00326085, 0.0028882 , 0.00295091]), 'test_score': array([0.41346154, 0.86407767, 0.85436893]), 'train_score': array([1., 1., 1.])}\n"
     ]
    },
    {
     "name": "stderr",
     "output_type": "stream",
     "text": [
      "/usr/local/lib/python3.7/site-packages/sklearn/model_selection/_split.py:2053: FutureWarning: You should specify a value for 'cv' instead of relying on the default value. The default value will change from 3 to 5 in version 0.22.\n",
      "  warnings.warn(CV_WARNING, FutureWarning)\n",
      "/usr/local/lib/python3.7/site-packages/sklearn/model_selection/_split.py:2053: FutureWarning: You should specify a value for 'cv' instead of relying on the default value. The default value will change from 3 to 5 in version 0.22.\n",
      "  warnings.warn(CV_WARNING, FutureWarning)\n",
      "/usr/local/lib/python3.7/site-packages/sklearn/model_selection/_split.py:2053: FutureWarning: You should specify a value for 'cv' instead of relying on the default value. The default value will change from 3 to 5 in version 0.22.\n",
      "  warnings.warn(CV_WARNING, FutureWarning)\n"
     ]
    }
   ],
   "source": [
    "cross_validate_results = [cross_validate(clf, X, y, scoring=scoring) for scoring in scorings]\n",
    "for scoring, result in zip(scorings, cross_validate_results):\n",
    "    print(\"Scoring:\", scoring, \"\\n\", \"Result:\", \"\\n\", result)"
   ]
  },
  {
   "cell_type": "markdown",
   "metadata": {},
   "source": [
    "Подбор параметров для модели можно проводить с помощью GridSearchCV из sklearn.model_selection. Возьмите параметр максимальной глубины дерева от 1 до 20. Относительно этого параметра вычислите средевзвешенную F1-меру для 5 разбиений. Постройте график зависимости F1-меры от максимальной глубины дерева. Получить результаты построения можно методом cv_results_.\n",
    "\n",
    "Проведите оценку результатов. Почему на тестовой выборке F1-мера не увеличивается. "
   ]
  },
  {
   "cell_type": "code",
   "execution_count": 28,
   "metadata": {},
   "outputs": [],
   "source": [
    "from sklearn.model_selection import GridSearchCV"
   ]
  },
  {
   "cell_type": "code",
   "execution_count": 48,
   "metadata": {},
   "outputs": [
    {
     "data": {
      "text/plain": [
       "GridSearchCV(cv=5, error_score='raise-deprecating',\n",
       "       estimator=DecisionTreeClassifier(class_weight=None, criterion='gini', max_depth=None,\n",
       "            max_features=None, max_leaf_nodes=None,\n",
       "            min_impurity_decrease=0.0, min_impurity_split=None,\n",
       "            min_samples_leaf=1, min_samples_split=2,\n",
       "            min_weight_fraction_leaf=0.0, presort=False, random_state=42,\n",
       "            splitter='best'),\n",
       "       fit_params=None, iid='warn', n_jobs=None,\n",
       "       param_grid={'max_depth': range(1, 21)}, pre_dispatch='2*n_jobs',\n",
       "       refit=True, return_train_score='warn', scoring='f1_weighted',\n",
       "       verbose=0)"
      ]
     },
     "execution_count": 48,
     "metadata": {},
     "output_type": "execute_result"
    }
   ],
   "source": [
    "parameters = {'max_depth': range(1, 21)}\n",
    "grid_clf = GridSearchCV(clf, parameters, scoring = 'f1_weighted', cv=5)\n",
    "grid_clf.fit(X, y)\n",
    "#grid_clf.cv_results_\n"
   ]
  },
  {
   "cell_type": "code",
   "execution_count": 49,
   "metadata": {},
   "outputs": [
    {
     "data": {
      "text/plain": [
       "[<matplotlib.lines.Line2D at 0x11c824438>]"
      ]
     },
     "execution_count": 49,
     "metadata": {},
     "output_type": "execute_result"
    },
    {
     "data": {
      "image/png": "[encoded data removed]",
      "text/plain": [
       "<Figure size 432x288 with 1 Axes>"
      ]
     },
     "metadata": {
      "needs_background": "light"
     },
     "output_type": "display_data"
    }
   ],
   "source": [
    "plt.plot(range(1, 21), grid_clf.cv_results_['mean_test_score'])"
   ]
  },
  {
   "cell_type": "markdown",
   "metadata": {},
   "source": [
    "То же самое проведите для параметра min_samples_split от 2 до 20.\n",
    "\n",
    "Проведите оценку результатов. "
   ]
  },
  {
   "cell_type": "code",
   "execution_count": 50,
   "metadata": {},
   "outputs": [
    {
     "data": {
      "text/plain": [
       "GridSearchCV(cv=5, error_score='raise-deprecating',\n",
       "       estimator=DecisionTreeClassifier(class_weight=None, criterion='gini', max_depth=None,\n",
       "            max_features=None, max_leaf_nodes=None,\n",
       "            min_impurity_decrease=0.0, min_impurity_split=None,\n",
       "            min_samples_leaf=1, min_samples_split=2,\n",
       "            min_weight_fraction_leaf=0.0, presort=False, random_state=42,\n",
       "            splitter='best'),\n",
       "       fit_params=None, iid='warn', n_jobs=None,\n",
       "       param_grid={'min_samples_split': range(2, 21)},\n",
       "       pre_dispatch='2*n_jobs', refit=True, return_train_score='warn',\n",
       "       scoring='f1_weighted', verbose=0)"
      ]
     },
     "execution_count": 50,
     "metadata": {},
     "output_type": "execute_result"
    }
   ],
   "source": [
    "parameters = {'min_samples_split': range(2, 21)}\n",
    "grid_clf = GridSearchCV(clf, parameters, scoring = 'f1_weighted', cv=5)\n",
    "grid_clf.fit(X, y)"
   ]
  },
  {
   "cell_type": "code",
   "execution_count": 51,
   "metadata": {},
   "outputs": [
    {
     "data": {
      "text/plain": [
       "[<matplotlib.lines.Line2D at 0x11c941d30>]"
      ]
     },
     "execution_count": 51,
     "metadata": {},
     "output_type": "execute_result"
    },
    {
     "data": {
      "image/png": "[encoded data removed]",
      "text/plain": [
       "<Figure size 432x288 with 1 Axes>"
      ]
     },
     "metadata": {
      "needs_background": "light"
     },
     "output_type": "display_data"
    }
   ],
   "source": [
    "plt.plot(range(2, 21), grid_clf.cv_results_['mean_test_score'])"
   ]
  },
  {
   "cell_type": "markdown",
   "metadata": {},
   "source": [
    "То же самое проведите для параметра min_samples_leaf от 1 до 10.\n",
    "\n",
    "Проведите оценку результатов. "
   ]
  },
  {
   "cell_type": "code",
   "execution_count": 44,
   "metadata": {},
   "outputs": [
    {
     "data": {
      "text/plain": [
       "GridSearchCV(cv=5, error_score='raise-deprecating',\n",
       "       estimator=DecisionTreeClassifier(class_weight=None, criterion='gini', max_depth=None,\n",
       "            max_features=None, max_leaf_nodes=None,\n",
       "            min_impurity_decrease=0.0, min_impurity_split=None,\n",
       "            min_samples_leaf=1, min_samples_split=2,\n",
       "            min_weight_fraction_leaf=0.0, presort=False, random_state=42,\n",
       "            splitter='best'),\n",
       "       fit_params=None, iid='warn', n_jobs=None,\n",
       "       param_grid={'min_samples_leaf': range(1, 11)},\n",
       "       pre_dispatch='2*n_jobs', refit=True, return_train_score='warn',\n",
       "       scoring='f1_weighted', verbose=0)"
      ]
     },
     "execution_count": 44,
     "metadata": {},
     "output_type": "execute_result"
    }
   ],
   "source": [
    "parameters = {'min_samples_leaf': range(1, 11)}\n",
    "grid_clf = GridSearchCV(clf, parameters, scoring = 'f1_weighted', cv=5)\n",
    "grid_clf.fit(X, y)"
   ]
  },
  {
   "cell_type": "code",
   "execution_count": 46,
   "metadata": {},
   "outputs": [
    {
     "data": {
      "text/plain": [
       "[<matplotlib.lines.Line2D at 0x11c70aeb8>]"
      ]
     },
     "execution_count": 46,
     "metadata": {},
     "output_type": "execute_result"
    },
    {
     "data": {
      "image/png": "[encoded data removed]",
      "text/plain": [
       "<Figure size 432x288 with 1 Axes>"
      ]
     },
     "metadata": {
      "needs_background": "light"
     },
     "output_type": "display_data"
    }
   ],
   "source": [
    "plt.plot(range(1, 11), grid_clf.cv_results_['mean_test_score'])"
   ]
  }
 ],
 "metadata": {
  "kernelspec": {
   "display_name": "Python 3",
   "language": "python",
   "name": "python3"
  },
  "language_info": {
   "codemirror_mode": {
    "name": "ipython",
    "version": 3
   },
   "file_extension": ".py",
   "mimetype": "text/x-python",
   "name": "python",
   "nbconvert_exporter": "python",
   "pygments_lexer": "ipython3",
   "version": "3.7.0"
  }
 },
 "nbformat": 4,
 "nbformat_minor": 2
}
